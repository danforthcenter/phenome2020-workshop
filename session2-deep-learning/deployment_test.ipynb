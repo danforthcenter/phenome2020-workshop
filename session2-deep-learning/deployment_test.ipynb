{
 "cells": [
  {
   "cell_type": "code",
   "execution_count": null,
   "metadata": {},
   "outputs": [],
   "source": [
    "import deepplantphenomics as dpp\n",
    "import numpy as np\n",
    "import matplotlib.pyplot as plt"
   ]
  },
  {
   "cell_type": "code",
   "execution_count": null,
   "metadata": {},
   "outputs": [],
   "source": [
    "class headCounter(object):\n",
    "    img_height = 1731\n",
    "    img_width = 1154\n",
    "\n",
    "    dir_name = 'saved_state'\n",
    "\n",
    "\n",
    "    def __init__(self, batch_size=4):\n",
    "        self.model = dpp.HeatmapObjectCountingModel(load_from_saved=self.dir_name)\n",
    "\n",
    "        self.model.set_image_dimensions(self.img_height, self.img_width, 3)\n",
    "        self.model.set_patch_size(height=512, width=512)\n",
    "\n",
    "        self.model.set_batch_size(batch_size)\n",
    "        self.model.set_number_of_threads(1)\n",
    "\n",
    "        self.model.use_predefined_model('u-net')\n",
    "\n",
    "\n",
    "    def forward_pass(self, x):\n",
    "        return self.model.forward_pass_with_file_inputs(x)\n",
    "\n",
    "\n",
    "    def shut_down(self):\n",
    "        self.model.shut_down()"
   ]
  },
  {
   "cell_type": "code",
   "execution_count": null,
   "metadata": {},
   "outputs": [],
   "source": [
    "net = headCounter()"
   ]
  },
  {
   "cell_type": "code",
   "execution_count": null,
   "metadata": {},
   "outputs": [],
   "source": [
    "test_output = net.forward_pass(['./dataset1/DSC00527-crop.jpg'])"
   ]
  },
  {
   "cell_type": "code",
   "execution_count": null,
   "metadata": {},
   "outputs": [],
   "source": [
    "test_output.shape"
   ]
  },
  {
   "cell_type": "code",
   "execution_count": null,
   "metadata": {},
   "outputs": [],
   "source": [
    "test_output = np.squeeze(test_output)"
   ]
  },
  {
   "cell_type": "code",
   "execution_count": null,
   "metadata": {},
   "outputs": [],
   "source": [
    "plt.figure(figsize=(18,18))\n",
    "plt.imshow(test_output)"
   ]
  },
  {
   "cell_type": "code",
   "execution_count": null,
   "metadata": {},
   "outputs": [],
   "source": [
    "np.sum(test_output / 100.)"
   ]
  },
  {
   "cell_type": "code",
   "execution_count": null,
   "metadata": {},
   "outputs": [],
   "source": []
  }
 ],
 "metadata": {
  "kernelspec": {
   "display_name": "Python 3",
   "language": "python",
   "name": "python3"
  },
  "language_info": {
   "codemirror_mode": {
    "name": "ipython",
    "version": 3
   },
   "file_extension": ".py",
   "mimetype": "text/x-python",
   "name": "python",
   "nbconvert_exporter": "python",
   "pygments_lexer": "ipython3",
   "version": "3.6.10"
  }
 },
 "nbformat": 4,
 "nbformat_minor": 4
}
